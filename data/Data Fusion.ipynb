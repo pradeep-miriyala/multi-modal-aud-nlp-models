{
 "cells": [
  {
   "cell_type": "code",
   "execution_count": 1,
   "id": "6af54a2f",
   "metadata": {},
   "outputs": [],
   "source": [
    "import pandas as pd"
   ]
  },
  {
   "cell_type": "code",
   "execution_count": 2,
   "id": "b384fe19",
   "metadata": {},
   "outputs": [],
   "source": [
    "# Load Raw data with FT sentence vectors\n",
    "df = pd.read_json('annamayya_dataset_ft_vectors.json')\n",
    "# Get precomputed MFCC Mean values for each MP3 file\n",
    "mfcc_data = pd.read_json('mfcc_means.json')"
   ]
  },
  {
   "cell_type": "code",
   "execution_count": 3,
   "id": "99b502ae",
   "metadata": {},
   "outputs": [],
   "source": [
    "# Load Audio metadata information\n",
    "mp3 = pd.read_excel('Index.xlsx','Final')\n",
    "# Unused columns\n",
    "mp3.drop(['Singer','Album','Song Name','Offset','Unnamed: 6','Unnamed: 7','Unnamed: 8'],axis=1,inplace=True)"
   ]
  },
  {
   "cell_type": "code",
   "execution_count": 4,
   "id": "dcd9940a",
   "metadata": {},
   "outputs": [],
   "source": [
    "# Get feature from raw data based on common key \"Samputi\"\n",
    "def get_feature(samputi,d,feature):\n",
    "    x = d[d['Samputi']==samputi][feature].tolist()\n",
    "    if len(x) == 1: return x[0]\n",
    "    return None    \n",
    "\n",
    "def get_mfcc_mean(fname,d):\n",
    "    x = d[d['name']==fname]['mfcc_mean'].tolist()\n",
    "    if len(x) == 1: return x[0]\n",
    "    return None"
   ]
  },
  {
   "cell_type": "code",
   "execution_count": 5,
   "id": "71b2396f",
   "metadata": {},
   "outputs": [],
   "source": [
    "mp3['Genre'] = mp3.apply(lambda x:get_feature(x.Samputi,df,'genre'),axis=1)\n",
    "mp3['Ragam'] = mp3.apply(lambda x:get_feature(x.Samputi,df,'Ragam'),axis=1)\n",
    "mp3['ft_vector'] = mp3.apply(lambda x:get_feature(x.Samputi,df,'ft_vectors'),axis=1)\n",
    "mp3.loc[:,'Lyric'] = mp3.apply(lambda x:get_feature(x.Samputi,df,'Lyric'),axis=1)\n",
    "mp3.loc[:,'mfcc_mean'] = mp3.apply(lambda x:get_mfcc_mean(x['MP3 File'].strip()[:-4],mfcc_data),axis=1)"
   ]
  },
  {
   "cell_type": "code",
   "execution_count": 6,
   "id": "784d7d6b",
   "metadata": {},
   "outputs": [],
   "source": [
    "# Drop entries where there is no mapping from lyrical data\n",
    "mp3 = mp3[~ mp3['Genre'].isna()]"
   ]
  },
  {
   "cell_type": "code",
   "execution_count": 7,
   "id": "1c22e510",
   "metadata": {},
   "outputs": [
    {
     "data": {
      "text/plain": [
       "(1233, 7)"
      ]
     },
     "execution_count": 7,
     "metadata": {},
     "output_type": "execute_result"
    }
   ],
   "source": [
    "mp3.shape"
   ]
  },
  {
   "cell_type": "code",
   "execution_count": 8,
   "id": "21012b1a",
   "metadata": {},
   "outputs": [],
   "source": [
    "# Save dataset\n",
    "mp3.to_json('song_lyric_map.json')"
   ]
  }
 ],
 "metadata": {
  "kernelspec": {
   "display_name": "Python 3 (ipykernel)",
   "language": "python",
   "name": "python3"
  },
  "language_info": {
   "codemirror_mode": {
    "name": "ipython",
    "version": 3
   },
   "file_extension": ".py",
   "mimetype": "text/x-python",
   "name": "python",
   "nbconvert_exporter": "python",
   "pygments_lexer": "ipython3",
   "version": "3.8.8"
  }
 },
 "nbformat": 4,
 "nbformat_minor": 5
}
