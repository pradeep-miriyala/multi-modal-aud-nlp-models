{
 "cells": [
  {
   "cell_type": "markdown",
   "id": "0dbe91f3",
   "metadata": {},
   "source": [
    "#### This notebook is text only supervised classification using Fasttext"
   ]
  },
  {
   "cell_type": "code",
   "execution_count": 1,
   "id": "7e304960",
   "metadata": {},
   "outputs": [],
   "source": [
    "# Fasttext main branch has issue in calculation of F1 score. hence using this label from github\n",
    "!pip install git+https://github.com/facebookresearch/fastText.git@b64e359d5485dda4b4b5074494155d18e25c8d13 -q"
   ]
  },
  {
   "cell_type": "code",
   "execution_count": 2,
   "id": "9b52c34c",
   "metadata": {},
   "outputs": [],
   "source": [
    "from prepare_ft_file import *\n",
    "import pandas as pd\n",
    "from sklearn.model_selection import train_test_split\n",
    "import fasttext"
   ]
  },
  {
   "cell_type": "code",
   "execution_count": 3,
   "id": "a6dbda07",
   "metadata": {},
   "outputs": [],
   "source": [
    "# Load MP3 mapped data\n",
    "data = pd.read_json('song_lyric_map.json')"
   ]
  },
  {
   "cell_type": "code",
   "execution_count": 4,
   "id": "85a80b6b",
   "metadata": {},
   "outputs": [],
   "source": [
    "X_train, X_test, y_train, y_test = train_test_split(data['Lyric'], data['Genre'], random_state=42, test_size=0.3)"
   ]
  },
  {
   "cell_type": "code",
   "execution_count": 5,
   "id": "93a39ffc",
   "metadata": {},
   "outputs": [],
   "source": [
    "write_ft_file(X_train, y_train, 'traindata.txt')\n",
    "write_ft_file(X_test, y_test, 'testdata.txt')"
   ]
  },
  {
   "cell_type": "code",
   "execution_count": 17,
   "id": "daab99aa",
   "metadata": {},
   "outputs": [],
   "source": [
    "# Auto tune Fast Text Model\n",
    "ft_auto_tune_model = fasttext.train_supervised(input=\"traindata.txt\", \n",
    "                                    autotuneValidationFile='testdata.txt', \n",
    "                                    autotuneModelSize=\"1M\", \n",
    "                                    autotuneMetric='f1',\n",
    "                                    dim=50)"
   ]
  },
  {
   "cell_type": "code",
   "execution_count": 18,
   "id": "126f596e",
   "metadata": {},
   "outputs": [
    {
     "name": "stdout",
     "output_type": "stream",
     "text": [
      "Training\n",
      "(863, 1.0, 1.0)\n",
      "Validation\n",
      "(370, 0.8837837837837837, 0.8837837837837837)\n"
     ]
    }
   ],
   "source": [
    "test_score = ft_auto_tune_model.test('testdata.txt')\n",
    "train_score = ft_auto_tune_model.test('traindata.txt')\n",
    "print('Training')\n",
    "print(train_score)\n",
    "print('Validation')\n",
    "print(test_score)"
   ]
  },
  {
   "cell_type": "code",
   "execution_count": 19,
   "id": "14e540f6",
   "metadata": {},
   "outputs": [],
   "source": [
    "ft_auto_tune_model.save_model('ft_autotuned_model_song_lyrics.bin')"
   ]
  }
 ],
 "metadata": {
  "kernelspec": {
   "display_name": "Python 3 (ipykernel)",
   "language": "python",
   "name": "python3"
  },
  "language_info": {
   "codemirror_mode": {
    "name": "ipython",
    "version": 3
   },
   "file_extension": ".py",
   "mimetype": "text/x-python",
   "name": "python",
   "nbconvert_exporter": "python",
   "pygments_lexer": "ipython3",
   "version": "3.8.8"
  }
 },
 "nbformat": 4,
 "nbformat_minor": 5
}
