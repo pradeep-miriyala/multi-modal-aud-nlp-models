{
  "nbformat": 4,
  "nbformat_minor": 5,
  "metadata": {
    "kernelspec": {
      "display_name": "Python 3 (ipykernel)",
      "language": "python",
      "name": "python3"
    },
    "language_info": {
      "codemirror_mode": {
        "name": "ipython",
        "version": 3
      },
      "file_extension": ".py",
      "mimetype": "text/x-python",
      "name": "python",
      "nbconvert_exporter": "python",
      "pygments_lexer": "ipython3",
      "version": "3.8.8"
    },
    "colab": {
      "name": "Fasttext Supervised Classification.ipynb",
      "provenance": [],
      "collapsed_sections": []
    }
  },
  "cells": [
    {
      "cell_type": "code",
      "metadata": {
        "colab": {
          "base_uri": "https://localhost:8080/"
        },
        "id": "7e304960",
        "outputId": "276ec855-7cb2-4a36-abbb-d68677e3ddfb"
      },
      "source": [
        "# Fasttext main branch has issue in calculation of F1 score. hence using this label from github\n",
        "!pip install git+https://github.com/facebookresearch/fastText.git@b64e359d5485dda4b4b5074494155d18e25c8d13 -q"
      ],
      "id": "7e304960",
      "execution_count": 2,
      "outputs": [
        {
          "output_type": "stream",
          "name": "stdout",
          "text": [
            "  Building wheel for fasttext (setup.py) ... \u001b[?25l\u001b[?25hdone\n"
          ]
        }
      ]
    },
    {
      "cell_type": "code",
      "metadata": {
        "id": "YUiq3KO8FCbh"
      },
      "source": [
        "import sys\n",
        "sys.path.append('/content/drive/MyDrive/Colab Notebooks/')"
      ],
      "id": "YUiq3KO8FCbh",
      "execution_count": 3,
      "outputs": []
    },
    {
      "cell_type": "code",
      "metadata": {
        "id": "9b52c34c"
      },
      "source": [
        "from prepare_ft_file import *\n",
        "import pandas as pd\n",
        "from sklearn.model_selection import train_test_split\n",
        "import fasttext"
      ],
      "id": "9b52c34c",
      "execution_count": 4,
      "outputs": []
    },
    {
      "cell_type": "code",
      "metadata": {
        "id": "a6dbda07"
      },
      "source": [
        "# Load MP3 mapped data\n",
        "data = pd.read_json('/content/drive/MyDrive/annamayya_dataset_cleaned.json')"
      ],
      "id": "a6dbda07",
      "execution_count": 5,
      "outputs": []
    },
    {
      "cell_type": "code",
      "metadata": {
        "id": "85a80b6b"
      },
      "source": [
        "X_train, X_test, y_train, y_test = train_test_split(data['Lyric'], data['genre'], random_state=42, test_size=0.1)\n",
        "# Do another split on train data for validation purpose\n",
        "X_train, X_valid, y_train, y_valid = train_test_split(X_train, y_train, random_state=42, test_size=0.3)"
      ],
      "id": "85a80b6b",
      "execution_count": 6,
      "outputs": []
    },
    {
      "cell_type": "code",
      "metadata": {
        "id": "93a39ffc"
      },
      "source": [
        "write_ft_file(X_train, y_train, 'train.txt')\n",
        "write_ft_file(X_valid, y_valid, 'valid.txt')\n",
        "write_ft_file(X_test, y_test, 'test.txt')"
      ],
      "id": "93a39ffc",
      "execution_count": 7,
      "outputs": []
    },
    {
      "cell_type": "code",
      "metadata": {
        "id": "daab99aa"
      },
      "source": [
        "# Auto tune Fast Text Model\n",
        "ft_auto_tune_model = fasttext.train_supervised(input=\"train.txt\", \n",
        "                                    autotuneValidationFile='valid.txt', \n",
        "                                    autotuneModelSize=\"500k\", \n",
        "                                    autotuneMetric='f1',\n",
        "                                    dim=200)"
      ],
      "id": "daab99aa",
      "execution_count": 8,
      "outputs": []
    },
    {
      "cell_type": "code",
      "metadata": {
        "colab": {
          "base_uri": "https://localhost:8080/",
          "height": 143
        },
        "id": "126f596e",
        "outputId": "9c050e1a-c14f-4e5a-d769-bdefeeaf93f0"
      },
      "source": [
        "def get_results(file, model, X):\n",
        "  r = model.test_label(file)\n",
        "  precision = (r['__label__Devotional']['precision'] + r['__label__Romantic']['precision'])/2\n",
        "  recall = (r['__label__Devotional']['recall'] + r['__label__Romantic']['recall'])/2\n",
        "  f1 = 2*precision*recall/(precision+recall)\n",
        "  return [len(X), f1,precision,recall]\n",
        "results = pd.DataFrame()\n",
        "results.loc['Train',['Samples','F1','Precision','Recall']] = get_results('train.txt', ft_auto_tune_model, X_train)\n",
        "results.loc['Validation',['Samples','F1','Precision','Recall']] = get_results('valid.txt', ft_auto_tune_model, X_valid)\n",
        "results.loc['Test',['Samples','F1','Precision','Recall']] = get_results('test.txt', ft_auto_tune_model, X_test)\n",
        "results"
      ],
      "id": "126f596e",
      "execution_count": 10,
      "outputs": [
        {
          "output_type": "execute_result",
          "data": {
            "text/html": [
              "<div>\n",
              "<style scoped>\n",
              "    .dataframe tbody tr th:only-of-type {\n",
              "        vertical-align: middle;\n",
              "    }\n",
              "\n",
              "    .dataframe tbody tr th {\n",
              "        vertical-align: top;\n",
              "    }\n",
              "\n",
              "    .dataframe thead th {\n",
              "        text-align: right;\n",
              "    }\n",
              "</style>\n",
              "<table border=\"1\" class=\"dataframe\">\n",
              "  <thead>\n",
              "    <tr style=\"text-align: right;\">\n",
              "      <th></th>\n",
              "      <th>Samples</th>\n",
              "      <th>F1</th>\n",
              "      <th>Precision</th>\n",
              "      <th>Recall</th>\n",
              "    </tr>\n",
              "  </thead>\n",
              "  <tbody>\n",
              "    <tr>\n",
              "      <th>Train</th>\n",
              "      <td>8994.0</td>\n",
              "      <td>0.999821</td>\n",
              "      <td>0.999931</td>\n",
              "      <td>0.999711</td>\n",
              "    </tr>\n",
              "    <tr>\n",
              "      <th>Validation</th>\n",
              "      <td>3855.0</td>\n",
              "      <td>0.918640</td>\n",
              "      <td>0.938528</td>\n",
              "      <td>0.899577</td>\n",
              "    </tr>\n",
              "    <tr>\n",
              "      <th>Test</th>\n",
              "      <td>1428.0</td>\n",
              "      <td>0.906173</td>\n",
              "      <td>0.918555</td>\n",
              "      <td>0.894121</td>\n",
              "    </tr>\n",
              "  </tbody>\n",
              "</table>\n",
              "</div>"
            ],
            "text/plain": [
              "            Samples        F1  Precision    Recall\n",
              "Train        8994.0  0.999821   0.999931  0.999711\n",
              "Validation   3855.0  0.918640   0.938528  0.899577\n",
              "Test         1428.0  0.906173   0.918555  0.894121"
            ]
          },
          "metadata": {},
          "execution_count": 10
        }
      ]
    },
    {
      "cell_type": "code",
      "metadata": {
        "id": "Frk0iA8lQbDu"
      },
      "source": [
        ""
      ],
      "id": "Frk0iA8lQbDu",
      "execution_count": null,
      "outputs": []
    }
  ]
}