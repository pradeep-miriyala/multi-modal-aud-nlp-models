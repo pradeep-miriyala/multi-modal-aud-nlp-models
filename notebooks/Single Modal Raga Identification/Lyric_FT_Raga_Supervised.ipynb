{
  "nbformat": 4,
  "nbformat_minor": 0,
  "metadata": {
    "colab": {
      "name": "Lyric FT Raga Supervised.ipynb",
      "provenance": [],
      "collapsed_sections": []
    },
    "kernelspec": {
      "name": "python3",
      "display_name": "Python 3"
    },
    "language_info": {
      "name": "python"
    }
  },
  "cells": [
    {
      "cell_type": "code",
      "metadata": {
        "colab": {
          "base_uri": "https://localhost:8080/"
        },
        "id": "4jMfa9umZdGb",
        "outputId": "b6efb0fa-1f4e-4a4e-e856-5a6000c05374"
      },
      "source": [
        "# Fasttext main branch has issue in calculation of F1 score. hence using this label from github\n",
        "!pip install git+https://github.com/facebookresearch/fastText.git@b64e359d5485dda4b4b5074494155d18e25c8d13 -q"
      ],
      "execution_count": 1,
      "outputs": [
        {
          "output_type": "stream",
          "name": "stdout",
          "text": [
            "  Building wheel for fasttext (setup.py) ... \u001b[?25l\u001b[?25hdone\n"
          ]
        }
      ]
    },
    {
      "cell_type": "code",
      "metadata": {
        "id": "YOjc63AiZurp"
      },
      "source": [
        "import pandas as pd\n",
        "from sklearn.model_selection import train_test_split\n",
        "import fasttext"
      ],
      "execution_count": 2,
      "outputs": []
    },
    {
      "cell_type": "code",
      "metadata": {
        "id": "Pl86FKdIaWxX"
      },
      "source": [
        "def write_ft_file(X,y,fname):\n",
        "    with open(fname, 'w',encoding=\"utf-8\") as f:\n",
        "        for i,r in X.iteritems():\n",
        "            f.write(f'__label__{y[i]} {X[i]}')\n",
        "            f.write('\\n')"
      ],
      "execution_count": 3,
      "outputs": []
    },
    {
      "cell_type": "code",
      "metadata": {
        "id": "FsMV08p4Zx55"
      },
      "source": [
        "# Load MP3 mapped data\n",
        "data = pd.read_json('/content/drive/MyDrive/song_lyric_map.json')"
      ],
      "execution_count": 6,
      "outputs": []
    },
    {
      "cell_type": "code",
      "metadata": {
        "id": "xAKqUcQ6a3hP"
      },
      "source": [
        "counts = data['Ragam'].value_counts()\n",
        "low_vals = counts[counts<10]\n",
        "for i, l in enumerate(low_vals):\n",
        "  data = data[data['Ragam'] != low_vals.index[i]]"
      ],
      "execution_count": 8,
      "outputs": []
    },
    {
      "cell_type": "code",
      "metadata": {
        "id": "yGQK93lQZziH"
      },
      "source": [
        "X_train, X_test, y_train, y_test = train_test_split(data['Lyric'], data['Ragam'], random_state=42, test_size=0.3)"
      ],
      "execution_count": 9,
      "outputs": []
    },
    {
      "cell_type": "code",
      "metadata": {
        "id": "v_cWOq7zZ3CT"
      },
      "source": [
        "write_ft_file(X_train, y_train, 'traindata.txt')\n",
        "write_ft_file(X_test, y_test, 'testdata.txt')"
      ],
      "execution_count": 10,
      "outputs": []
    },
    {
      "cell_type": "code",
      "metadata": {
        "id": "bYaXlDcCZ6Qm"
      },
      "source": [
        "# Auto tune Fast Text Model\n",
        "ft_auto_tune_model = fasttext.train_supervised(input=\"traindata.txt\", \n",
        "                                    autotuneValidationFile='testdata.txt', \n",
        "                                    autotuneModelSize=\"1M\", \n",
        "                                    autotuneMetric='f1',\n",
        "                                    dim=50)"
      ],
      "execution_count": 11,
      "outputs": []
    },
    {
      "cell_type": "code",
      "metadata": {
        "colab": {
          "base_uri": "https://localhost:8080/"
        },
        "id": "UG5_8uVUZ8fN",
        "outputId": "163403b7-e6b5-4bf0-a701-ef035f0f142c"
      },
      "source": [
        "test_score = ft_auto_tune_model.test('testdata.txt')\n",
        "train_score = ft_auto_tune_model.test('traindata.txt')\n",
        "print('Training')\n",
        "print(train_score)\n",
        "print('Validation')\n",
        "print(test_score)"
      ],
      "execution_count": 12,
      "outputs": [
        {
          "output_type": "stream",
          "name": "stdout",
          "text": [
            "Training\n",
            "(798, 0.7944862155388471, 0.7944862155388471)\n",
            "Validation\n",
            "(342, 0.10818713450292397, 0.10818713450292397)\n"
          ]
        }
      ]
    },
    {
      "cell_type": "code",
      "metadata": {
        "id": "ihJQOLIHZ-UP"
      },
      "source": [
        "ft_auto_tune_model.save_model('ft_autotuned_model_song_lyrics_raga.bin')"
      ],
      "execution_count": 13,
      "outputs": []
    },
    {
      "cell_type": "code",
      "metadata": {
        "id": "VZLpiaoia6f4"
      },
      "source": [
        ""
      ],
      "execution_count": null,
      "outputs": []
    }
  ]
}